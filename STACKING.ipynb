{
 "cells": [
  {
   "cell_type": "code",
   "execution_count": 1,
   "id": "d08eb489",
   "metadata": {},
   "outputs": [],
   "source": [
    "import sklearn \n",
    "import numpy as np\n",
    "import pandas as pd\n",
    "import warnings\n",
    "warnings.filterwarnings('ignore')"
   ]
  },
  {
   "cell_type": "code",
   "execution_count": 2,
   "id": "de1c7aca",
   "metadata": {},
   "outputs": [],
   "source": [
    "df1 = pd.read_csv(\"IMDB Dataset.csv\")\n",
    "df = df1.head(50000)"
   ]
  },
  {
   "cell_type": "code",
   "execution_count": 3,
   "id": "db4d1968",
   "metadata": {
    "scrolled": true
   },
   "outputs": [
    {
     "data": {
      "text/html": [
       "<div>\n",
       "<style scoped>\n",
       "    .dataframe tbody tr th:only-of-type {\n",
       "        vertical-align: middle;\n",
       "    }\n",
       "\n",
       "    .dataframe tbody tr th {\n",
       "        vertical-align: top;\n",
       "    }\n",
       "\n",
       "    .dataframe thead th {\n",
       "        text-align: right;\n",
       "    }\n",
       "</style>\n",
       "<table border=\"1\" class=\"dataframe\">\n",
       "  <thead>\n",
       "    <tr style=\"text-align: right;\">\n",
       "      <th></th>\n",
       "      <th>review</th>\n",
       "      <th>sentiment</th>\n",
       "    </tr>\n",
       "  </thead>\n",
       "  <tbody>\n",
       "    <tr>\n",
       "      <th>0</th>\n",
       "      <td>One of the other reviewers has mentioned that ...</td>\n",
       "      <td>positive</td>\n",
       "    </tr>\n",
       "    <tr>\n",
       "      <th>1</th>\n",
       "      <td>A wonderful little production. &lt;br /&gt;&lt;br /&gt;The...</td>\n",
       "      <td>positive</td>\n",
       "    </tr>\n",
       "    <tr>\n",
       "      <th>2</th>\n",
       "      <td>I thought this was a wonderful way to spend ti...</td>\n",
       "      <td>positive</td>\n",
       "    </tr>\n",
       "    <tr>\n",
       "      <th>3</th>\n",
       "      <td>Basically there's a family where a little boy ...</td>\n",
       "      <td>negative</td>\n",
       "    </tr>\n",
       "    <tr>\n",
       "      <th>4</th>\n",
       "      <td>Petter Mattei's \"Love in the Time of Money\" is...</td>\n",
       "      <td>positive</td>\n",
       "    </tr>\n",
       "    <tr>\n",
       "      <th>5</th>\n",
       "      <td>Probably my all-time favorite movie, a story o...</td>\n",
       "      <td>positive</td>\n",
       "    </tr>\n",
       "    <tr>\n",
       "      <th>6</th>\n",
       "      <td>I sure would like to see a resurrection of a u...</td>\n",
       "      <td>positive</td>\n",
       "    </tr>\n",
       "    <tr>\n",
       "      <th>7</th>\n",
       "      <td>This show was an amazing, fresh &amp; innovative i...</td>\n",
       "      <td>negative</td>\n",
       "    </tr>\n",
       "    <tr>\n",
       "      <th>8</th>\n",
       "      <td>Encouraged by the positive comments about this...</td>\n",
       "      <td>negative</td>\n",
       "    </tr>\n",
       "    <tr>\n",
       "      <th>9</th>\n",
       "      <td>If you like original gut wrenching laughter yo...</td>\n",
       "      <td>positive</td>\n",
       "    </tr>\n",
       "  </tbody>\n",
       "</table>\n",
       "</div>"
      ],
      "text/plain": [
       "                                              review sentiment\n",
       "0  One of the other reviewers has mentioned that ...  positive\n",
       "1  A wonderful little production. <br /><br />The...  positive\n",
       "2  I thought this was a wonderful way to spend ti...  positive\n",
       "3  Basically there's a family where a little boy ...  negative\n",
       "4  Petter Mattei's \"Love in the Time of Money\" is...  positive\n",
       "5  Probably my all-time favorite movie, a story o...  positive\n",
       "6  I sure would like to see a resurrection of a u...  positive\n",
       "7  This show was an amazing, fresh & innovative i...  negative\n",
       "8  Encouraged by the positive comments about this...  negative\n",
       "9  If you like original gut wrenching laughter yo...  positive"
      ]
     },
     "execution_count": 3,
     "metadata": {},
     "output_type": "execute_result"
    }
   ],
   "source": [
    "df.head(10)"
   ]
  },
  {
   "cell_type": "code",
   "execution_count": 4,
   "id": "f1167bc3",
   "metadata": {},
   "outputs": [
    {
     "data": {
      "text/plain": [
       "25000"
      ]
     },
     "execution_count": 4,
     "metadata": {},
     "output_type": "execute_result"
    }
   ],
   "source": [
    "sum(df[\"sentiment\"]==\"positive\")"
   ]
  },
  {
   "cell_type": "code",
   "execution_count": 5,
   "id": "fc0a1864",
   "metadata": {},
   "outputs": [
    {
     "data": {
      "text/plain": [
       "25000"
      ]
     },
     "execution_count": 5,
     "metadata": {},
     "output_type": "execute_result"
    }
   ],
   "source": [
    "sum(df[\"sentiment\"]==\"negative\")"
   ]
  },
  {
   "cell_type": "code",
   "execution_count": 6,
   "id": "14ab61d6",
   "metadata": {},
   "outputs": [
    {
     "data": {
      "text/plain": [
       "review       0\n",
       "sentiment    0\n",
       "dtype: int64"
      ]
     },
     "execution_count": 6,
     "metadata": {},
     "output_type": "execute_result"
    }
   ],
   "source": [
    "df.isnull().sum()"
   ]
  },
  {
   "cell_type": "code",
   "execution_count": 7,
   "id": "a4d55762",
   "metadata": {
    "scrolled": true
   },
   "outputs": [
    {
     "data": {
      "text/html": [
       "<div>\n",
       "<style scoped>\n",
       "    .dataframe tbody tr th:only-of-type {\n",
       "        vertical-align: middle;\n",
       "    }\n",
       "\n",
       "    .dataframe tbody tr th {\n",
       "        vertical-align: top;\n",
       "    }\n",
       "\n",
       "    .dataframe thead th {\n",
       "        text-align: right;\n",
       "    }\n",
       "</style>\n",
       "<table border=\"1\" class=\"dataframe\">\n",
       "  <thead>\n",
       "    <tr style=\"text-align: right;\">\n",
       "      <th></th>\n",
       "      <th>review</th>\n",
       "      <th>sentiment</th>\n",
       "      <th>Sent_vale</th>\n",
       "    </tr>\n",
       "  </thead>\n",
       "  <tbody>\n",
       "    <tr>\n",
       "      <th>0</th>\n",
       "      <td>One of the other reviewers has mentioned that ...</td>\n",
       "      <td>positive</td>\n",
       "      <td>1</td>\n",
       "    </tr>\n",
       "    <tr>\n",
       "      <th>1</th>\n",
       "      <td>A wonderful little production. &lt;br /&gt;&lt;br /&gt;The...</td>\n",
       "      <td>positive</td>\n",
       "      <td>1</td>\n",
       "    </tr>\n",
       "    <tr>\n",
       "      <th>2</th>\n",
       "      <td>I thought this was a wonderful way to spend ti...</td>\n",
       "      <td>positive</td>\n",
       "      <td>1</td>\n",
       "    </tr>\n",
       "    <tr>\n",
       "      <th>3</th>\n",
       "      <td>Basically there's a family where a little boy ...</td>\n",
       "      <td>negative</td>\n",
       "      <td>0</td>\n",
       "    </tr>\n",
       "    <tr>\n",
       "      <th>4</th>\n",
       "      <td>Petter Mattei's \"Love in the Time of Money\" is...</td>\n",
       "      <td>positive</td>\n",
       "      <td>1</td>\n",
       "    </tr>\n",
       "    <tr>\n",
       "      <th>...</th>\n",
       "      <td>...</td>\n",
       "      <td>...</td>\n",
       "      <td>...</td>\n",
       "    </tr>\n",
       "    <tr>\n",
       "      <th>49995</th>\n",
       "      <td>I thought this movie did a down right good job...</td>\n",
       "      <td>positive</td>\n",
       "      <td>1</td>\n",
       "    </tr>\n",
       "    <tr>\n",
       "      <th>49996</th>\n",
       "      <td>Bad plot, bad dialogue, bad acting, idiotic di...</td>\n",
       "      <td>negative</td>\n",
       "      <td>0</td>\n",
       "    </tr>\n",
       "    <tr>\n",
       "      <th>49997</th>\n",
       "      <td>I am a Catholic taught in parochial elementary...</td>\n",
       "      <td>negative</td>\n",
       "      <td>0</td>\n",
       "    </tr>\n",
       "    <tr>\n",
       "      <th>49998</th>\n",
       "      <td>I'm going to have to disagree with the previou...</td>\n",
       "      <td>negative</td>\n",
       "      <td>0</td>\n",
       "    </tr>\n",
       "    <tr>\n",
       "      <th>49999</th>\n",
       "      <td>No one expects the Star Trek movies to be high...</td>\n",
       "      <td>negative</td>\n",
       "      <td>0</td>\n",
       "    </tr>\n",
       "  </tbody>\n",
       "</table>\n",
       "<p>50000 rows × 3 columns</p>\n",
       "</div>"
      ],
      "text/plain": [
       "                                                  review sentiment  Sent_vale\n",
       "0      One of the other reviewers has mentioned that ...  positive          1\n",
       "1      A wonderful little production. <br /><br />The...  positive          1\n",
       "2      I thought this was a wonderful way to spend ti...  positive          1\n",
       "3      Basically there's a family where a little boy ...  negative          0\n",
       "4      Petter Mattei's \"Love in the Time of Money\" is...  positive          1\n",
       "...                                                  ...       ...        ...\n",
       "49995  I thought this movie did a down right good job...  positive          1\n",
       "49996  Bad plot, bad dialogue, bad acting, idiotic di...  negative          0\n",
       "49997  I am a Catholic taught in parochial elementary...  negative          0\n",
       "49998  I'm going to have to disagree with the previou...  negative          0\n",
       "49999  No one expects the Star Trek movies to be high...  negative          0\n",
       "\n",
       "[50000 rows x 3 columns]"
      ]
     },
     "execution_count": 7,
     "metadata": {},
     "output_type": "execute_result"
    }
   ],
   "source": [
    "from sklearn.preprocessing import LabelEncoder\n",
    "label = LabelEncoder().fit_transform(df['sentiment'])\n",
    "df.insert(2, \"Sent_vale\", label)\n",
    "df"
   ]
  },
  {
   "cell_type": "code",
   "execution_count": 8,
   "id": "68374ec8",
   "metadata": {},
   "outputs": [],
   "source": [
    "import re\n",
    "\n",
    "Replace_No_Space = re.compile(\"(\\.)|(\\;)|(\\:)|(\\!)|(\\')|(\\?)|(\\,)|(\\\")|(\\|)|(\\()|(\\))|(\\[)|(\\])|(\\%)|(\\$)|(\\>)|(\\<)|(\\{)|(\\})\")\n",
    "Replace_With_Spaces = re.compile(\"(<br\\s/><br\\s/?)|(-)|(/)|(:).\")"
   ]
  },
  {
   "cell_type": "code",
   "execution_count": 9,
   "id": "0c6711a3",
   "metadata": {},
   "outputs": [],
   "source": [
    "import preprocessor as p\n",
    "\n",
    "def IMDB_Clean(df):\n",
    "    tempArr = []\n",
    "    for line in df:\n",
    "        tmpl = p.clean(line)\n",
    "        tmpl = Replace_No_Space.sub(\"\",tmpl.lower())\n",
    "        tmpl = Replace_With_Spaces.sub(\" \",tmpl)\n",
    "        tempArr.append(tmpl)\n",
    "    return tempArr"
   ]
  },
  {
   "cell_type": "code",
   "execution_count": 10,
   "id": "8e2acf71",
   "metadata": {},
   "outputs": [],
   "source": [
    "cleaned_review = IMDB_Clean(df[\"review\"])\n",
    "cleaned_review = pd.DataFrame(cleaned_review)"
   ]
  },
  {
   "cell_type": "code",
   "execution_count": 11,
   "id": "1fb95735",
   "metadata": {
    "scrolled": true
   },
   "outputs": [
    {
     "data": {
      "text/html": [
       "<div>\n",
       "<style scoped>\n",
       "    .dataframe tbody tr th:only-of-type {\n",
       "        vertical-align: middle;\n",
       "    }\n",
       "\n",
       "    .dataframe tbody tr th {\n",
       "        vertical-align: top;\n",
       "    }\n",
       "\n",
       "    .dataframe thead th {\n",
       "        text-align: right;\n",
       "    }\n",
       "</style>\n",
       "<table border=\"1\" class=\"dataframe\">\n",
       "  <thead>\n",
       "    <tr style=\"text-align: right;\">\n",
       "      <th></th>\n",
       "      <th>review</th>\n",
       "      <th>sentiment</th>\n",
       "      <th>Sent_vale</th>\n",
       "      <th>cleaned_review</th>\n",
       "    </tr>\n",
       "  </thead>\n",
       "  <tbody>\n",
       "    <tr>\n",
       "      <th>0</th>\n",
       "      <td>One of the other reviewers has mentioned that ...</td>\n",
       "      <td>positive</td>\n",
       "      <td>1</td>\n",
       "      <td>one of the other reviewers has mentioned that ...</td>\n",
       "    </tr>\n",
       "    <tr>\n",
       "      <th>1</th>\n",
       "      <td>A wonderful little production. &lt;br /&gt;&lt;br /&gt;The...</td>\n",
       "      <td>positive</td>\n",
       "      <td>1</td>\n",
       "      <td>a wonderful little production br  br  the film...</td>\n",
       "    </tr>\n",
       "    <tr>\n",
       "      <th>2</th>\n",
       "      <td>I thought this was a wonderful way to spend ti...</td>\n",
       "      <td>positive</td>\n",
       "      <td>1</td>\n",
       "      <td>i thought this was a wonderful way to spend ti...</td>\n",
       "    </tr>\n",
       "    <tr>\n",
       "      <th>3</th>\n",
       "      <td>Basically there's a family where a little boy ...</td>\n",
       "      <td>negative</td>\n",
       "      <td>0</td>\n",
       "      <td>basically theres a family where a little boy j...</td>\n",
       "    </tr>\n",
       "    <tr>\n",
       "      <th>4</th>\n",
       "      <td>Petter Mattei's \"Love in the Time of Money\" is...</td>\n",
       "      <td>positive</td>\n",
       "      <td>1</td>\n",
       "      <td>petter matteis love in the time of money is a ...</td>\n",
       "    </tr>\n",
       "  </tbody>\n",
       "</table>\n",
       "</div>"
      ],
      "text/plain": [
       "                                              review sentiment  Sent_vale  \\\n",
       "0  One of the other reviewers has mentioned that ...  positive          1   \n",
       "1  A wonderful little production. <br /><br />The...  positive          1   \n",
       "2  I thought this was a wonderful way to spend ti...  positive          1   \n",
       "3  Basically there's a family where a little boy ...  negative          0   \n",
       "4  Petter Mattei's \"Love in the Time of Money\" is...  positive          1   \n",
       "\n",
       "                                      cleaned_review  \n",
       "0  one of the other reviewers has mentioned that ...  \n",
       "1  a wonderful little production br  br  the film...  \n",
       "2  i thought this was a wonderful way to spend ti...  \n",
       "3  basically theres a family where a little boy j...  \n",
       "4  petter matteis love in the time of money is a ...  "
      ]
     },
     "execution_count": 11,
     "metadata": {},
     "output_type": "execute_result"
    }
   ],
   "source": [
    "df[\"cleaned_review\"] = cleaned_review\n",
    "\n",
    "df.head()"
   ]
  },
  {
   "cell_type": "code",
   "execution_count": 12,
   "id": "475bb410",
   "metadata": {},
   "outputs": [],
   "source": [
    "from sklearn.model_selection import train_test_split\n",
    "X_train, X_test, y_train, y_test = train_test_split( df[\"cleaned_review\"].fillna(' '), df[\"Sent_vale\"], test_size = 0.3, random_state=42, shuffle=True)"
   ]
  },
  {
   "cell_type": "code",
   "execution_count": 13,
   "id": "cada4992",
   "metadata": {},
   "outputs": [],
   "source": [
    "from sklearn.feature_extraction.text import CountVectorizer\n",
    "\n",
    "vectorizer = CountVectorizer(binary=True, stop_words='english')\n",
    "\n",
    "vectorizer.fit(list(X_train) + list(X_test))\n",
    "\n",
    "X_train_vec = vectorizer.transform(X_train)\n",
    "X_test_vec = vectorizer.transform(X_test)"
   ]
  },
  {
   "cell_type": "code",
   "execution_count": 14,
   "id": "13378370",
   "metadata": {},
   "outputs": [],
   "source": [
    "from sklearn.metrics import f1_score,accuracy_score,precision_score\n",
    "from sklearn.metrics import classification_report,confusion_matrix\n",
    "from sklearn import metrics\n",
    "import matplotlib.pyplot as plt\n",
    "from sklearn.model_selection import cross_val_score"
   ]
  },
  {
   "cell_type": "markdown",
   "id": "4e0f5fbd",
   "metadata": {},
   "source": [
    "## SVM"
   ]
  },
  {
   "cell_type": "code",
   "execution_count": 15,
   "id": "07040312",
   "metadata": {},
   "outputs": [
    {
     "name": "stdout",
     "output_type": "stream",
     "text": [
      "Model performance for Training set\n",
      "- Accuracy: 100.0\n",
      "----------------------------------\n",
      "Model performance for Test set\n",
      "- Accuracy: 86.17333333333333\n",
      "----------------------------------\n",
      "- Precision: 86.38342789286185\n",
      "----------------------------------\n",
      "- F1-Score: 86.32647679324896\n",
      "----------------------------------\n",
      "Model performance for Cross-validation\n",
      "- Accuracy: 86.0142857142857\n",
      "----------------------------------\n",
      "Model Classification report : \n",
      "              precision    recall  f1-score   support\n",
      "\n",
      "           0       0.86      0.86      0.86      7411\n",
      "           1       0.86      0.86      0.86      7589\n",
      "\n",
      "    accuracy                           0.86     15000\n",
      "   macro avg       0.86      0.86      0.86     15000\n",
      "weighted avg       0.86      0.86      0.86     15000\n",
      "\n",
      "----------------------------------\n",
      "Model Confusion report - test data : \n",
      "[[6379 1032]\n",
      " [1042 6547]]\n",
      "----------------------------------\n",
      "Model ROC CURVE : \n"
     ]
    },
    {
     "data": {
      "image/png": "[encoded data removed]",
      "text/plain": [
       "<Figure size 432x288 with 1 Axes>"
      ]
     },
     "metadata": {
      "needs_background": "light"
     },
     "output_type": "display_data"
    }
   ],
   "source": [
    "from sklearn.svm import LinearSVC\n",
    "svm = LinearSVC(verbose=0)\n",
    "svm.fit(X_train_vec,y_train)\n",
    "\n",
    "# Make predictions\n",
    "y_train_pred_svm = svm.predict(X_train_vec)\n",
    "y_test_pred_svm = svm.predict(X_test_vec)\n",
    "\n",
    "#Cross validation\n",
    "svm_cross = (cross_val_score(svm,X_train_vec,y_train).mean())*100\n",
    "\n",
    "# Training set performance\n",
    "svm_linear_train_accuracy = accuracy_score(y_train, y_train_pred_svm)*100 # Calculate Accuracy\n",
    "\n",
    "# Test set performance\n",
    "svm_linear_test_accuracy = accuracy_score(y_test, y_test_pred_svm)*100 # Calculate Accuracy\n",
    "\n",
    "# Test set precision\n",
    "svm_linear_test_precision = precision_score(y_test, y_test_pred_svm)*100 # Calculate Accuracy\n",
    "\n",
    "# Test set f1score\n",
    "svm_linear_test_f1 = f1_score(y_test, y_test_pred_svm)*100 # Calculate Accuracy\n",
    "\n",
    "print('Model performance for Training set')\n",
    "print('- Accuracy: %s' % svm_linear_train_accuracy)\n",
    "print('----------------------------------')\n",
    "print('Model performance for Test set')\n",
    "print('- Accuracy: %s' % svm_linear_test_accuracy)\n",
    "print('----------------------------------')\n",
    "print('- Precision: %s' % svm_linear_test_precision)\n",
    "print('----------------------------------')\n",
    "print('- F1-Score: %s' % svm_linear_test_f1)\n",
    "print('----------------------------------')\n",
    "print('Model performance for Cross-validation')\n",
    "print('- Accuracy: %s' % svm_cross)\n",
    "print('----------------------------------')\n",
    "\n",
    "#classification Report\n",
    "print('Model Classification report : ')\n",
    "print(classification_report(y_test,y_test_pred_svm))\n",
    "print('----------------------------------')\n",
    "\n",
    "#confusion Report\n",
    "print('Model Confusion report - test data : ')\n",
    "print(confusion_matrix(y_test,y_test_pred_svm))\n",
    "print('----------------------------------')\n",
    "\n",
    "#ROC Curve\n",
    "fpr, tpr, _ = metrics.roc_curve(y_test,y_test_pred_svm)\n",
    "\n",
    "print('Model ROC CURVE : ')   \n",
    "#plotting ROC\n",
    "plt.plot(fpr,tpr)\n",
    "plt.ylabel('True Positive Rate')\n",
    "plt.xlabel('False Positive Rate')\n",
    "plt.show()"
   ]
  },
  {
   "cell_type": "markdown",
   "id": "fe2ec452",
   "metadata": {},
   "source": [
    "## Logistic Regression"
   ]
  },
  {
   "cell_type": "code",
   "execution_count": 16,
   "id": "2122aefb",
   "metadata": {},
   "outputs": [
    {
     "name": "stdout",
     "output_type": "stream",
     "text": [
      "Model performance for Training set\n",
      "- Accuracy: 99.70857142857142\n",
      "----------------------------------\n",
      "Model performance for Test set\n",
      "- Accuracy: 88.06\n",
      "----------------------------------\n",
      "- Precision: 88.11464633184329\n",
      "----------------------------------\n",
      "- F1-Score: 88.21322803553801\n",
      "----------------------------------\n",
      "Model performance for Cross-validation\n",
      "- Accuracy: 87.63714285714286\n",
      "----------------------------------\n",
      "Model Classification report : \n",
      "              precision    recall  f1-score   support\n",
      "\n",
      "           0       0.88      0.88      0.88      7411\n",
      "           1       0.88      0.88      0.88      7589\n",
      "\n",
      "    accuracy                           0.88     15000\n",
      "   macro avg       0.88      0.88      0.88     15000\n",
      "weighted avg       0.88      0.88      0.88     15000\n",
      "\n",
      "----------------------------------\n",
      "Model Confusion report - test data : \n",
      "[[6507  904]\n",
      " [ 887 6702]]\n",
      "----------------------------------\n",
      "Model ROC CURVE : \n"
     ]
    },
    {
     "data": {
      "image/png": "[encoded data removed]",
      "text/plain": [
       "<Figure size 432x288 with 1 Axes>"
      ]
     },
     "metadata": {
      "needs_background": "light"
     },
     "output_type": "display_data"
    }
   ],
   "source": [
    "from sklearn.linear_model import LogisticRegression\n",
    "log = LogisticRegression(max_iter=1000)\n",
    "log.fit(X_train_vec,y_train)\n",
    "\n",
    "# Make predictions\n",
    "y_train_pred_log = log.predict(X_train_vec)\n",
    "y_test_pred_log = log.predict(X_test_vec)\n",
    "\n",
    "#Cross validation\n",
    "log_cross = (cross_val_score(log,X_train_vec,y_train).mean())*100\n",
    "\n",
    "# Training set performance\n",
    "log_train_accuracy = accuracy_score(y_train, y_train_pred_log)*100 # Calculate Accuracy\n",
    "\n",
    "# Test set performance\n",
    "log_test_accuracy = accuracy_score(y_test, y_test_pred_log)*100 # Calculate Accuracy\n",
    "\n",
    "# Test set precision\n",
    "log_test_precision = precision_score(y_test, y_test_pred_log)*100 # Calculate Accuracy\n",
    "\n",
    "# Test set f1score\n",
    "log_test_f1 = f1_score(y_test, y_test_pred_log)*100 # Calculate Accuracy\n",
    "\n",
    "print('Model performance for Training set')\n",
    "print('- Accuracy: %s' % log_train_accuracy)\n",
    "print('----------------------------------')\n",
    "print('Model performance for Test set')\n",
    "print('- Accuracy: %s' % log_test_accuracy)\n",
    "print('----------------------------------')\n",
    "print('- Precision: %s' % log_test_precision)\n",
    "print('----------------------------------')\n",
    "print('- F1-Score: %s' % log_test_f1)\n",
    "print('----------------------------------')\n",
    "print('Model performance for Cross-validation')\n",
    "print('- Accuracy: %s' % log_cross)\n",
    "print('----------------------------------')\n",
    "\n",
    "#classification Report\n",
    "print('Model Classification report : ')\n",
    "print(classification_report(y_test,y_test_pred_log))\n",
    "print('----------------------------------')\n",
    "\n",
    "#confusion Report\n",
    "print('Model Confusion report - test data : ')\n",
    "print(confusion_matrix(y_test,y_test_pred_log))\n",
    "print('----------------------------------')\n",
    "\n",
    "#ROC Curve\n",
    "fpr, tpr, _ = metrics.roc_curve(y_test,y_test_pred_log)\n",
    "\n",
    "print('Model ROC CURVE : ')   \n",
    "#plotting ROC\n",
    "plt.plot(fpr,tpr)\n",
    "plt.ylabel('True Positive Rate')\n",
    "plt.xlabel('False Positive Rate')\n",
    "plt.show()"
   ]
  },
  {
   "cell_type": "markdown",
   "id": "e04668fe",
   "metadata": {},
   "source": [
    "## Random Forest"
   ]
  },
  {
   "cell_type": "code",
   "execution_count": 17,
   "id": "353864ad",
   "metadata": {},
   "outputs": [
    {
     "name": "stdout",
     "output_type": "stream",
     "text": [
      "Model performance for Training set\n",
      "- Accuracy: 99.40571428571428\n",
      "----------------------------------\n",
      "Model performance for Test set\n",
      "- Accuracy: 76.02\n",
      "----------------------------------\n",
      "- Precision: 80.36203224825069\n",
      "----------------------------------\n",
      "- F1-Score: 74.60283838169877\n",
      "----------------------------------\n",
      "Model performance for Cross-validation\n",
      "- Accuracy: 76.03428571428572\n",
      "----------------------------------\n",
      "Model Classification report : \n",
      "              precision    recall  f1-score   support\n",
      "\n",
      "           0       0.73      0.83      0.77      7411\n",
      "           1       0.80      0.70      0.75      7589\n",
      "\n",
      "    accuracy                           0.76     15000\n",
      "   macro avg       0.76      0.76      0.76     15000\n",
      "weighted avg       0.77      0.76      0.76     15000\n",
      "\n",
      "----------------------------------\n",
      "Model Confusion report - test data : \n",
      "[[6120 1291]\n",
      " [2306 5283]]\n",
      "----------------------------------\n",
      "Model ROC CURVE : \n"
     ]
    },
    {
     "data": {
      "image/png": "[encoded data removed]",
      "text/plain": [
       "<Figure size 432x288 with 1 Axes>"
      ]
     },
     "metadata": {
      "needs_background": "light"
     },
     "output_type": "display_data"
    }
   ],
   "source": [
    "from sklearn.ensemble import RandomForestClassifier\n",
    "\n",
    "rf = RandomForestClassifier(n_estimators=10) # Define classifier\n",
    "rf.fit(X_train_vec,y_train) # Train model\n",
    "\n",
    "\n",
    "# Make predictions\n",
    "y_train_pred_rf = rf.predict(X_train_vec)\n",
    "y_test_pred_rf = rf.predict(X_test_vec)\n",
    "\n",
    "#Cross validation\n",
    "rf_cross = (cross_val_score(rf,X_train_vec,y_train).mean())*100\n",
    "\n",
    "# Training set performance\n",
    "rf_train_accuracy = accuracy_score(y_train, y_train_pred_rf)*100 # Calculate Accuracy\n",
    "\n",
    "# Test set performance\n",
    "rf_test_accuracy = accuracy_score(y_test, y_test_pred_rf)*100 # Calculate Accuracy\n",
    "\n",
    "# Test set precision\n",
    "rf_test_precision = precision_score(y_test, y_test_pred_rf)*100 # Calculate Accuracy\n",
    "\n",
    "# Test set f1score\n",
    "rf_test_f1 = f1_score(y_test, y_test_pred_rf)*100 # Calculate Accuracy\n",
    "\n",
    "print('Model performance for Training set')\n",
    "print('- Accuracy: %s' % rf_train_accuracy)\n",
    "print('----------------------------------')\n",
    "print('Model performance for Test set')\n",
    "print('- Accuracy: %s' % rf_test_accuracy)\n",
    "print('----------------------------------')\n",
    "print('- Precision: %s' % rf_test_precision)\n",
    "print('----------------------------------')\n",
    "print('- F1-Score: %s' % rf_test_f1)\n",
    "print('----------------------------------')\n",
    "print('Model performance for Cross-validation')\n",
    "print('- Accuracy: %s' % rf_cross)\n",
    "print('----------------------------------')\n",
    "\n",
    "#classification Report\n",
    "print('Model Classification report : ')\n",
    "print(classification_report(y_test,y_test_pred_rf))\n",
    "print('----------------------------------')\n",
    "\n",
    "#confusion Report\n",
    "print('Model Confusion report - test data : ')\n",
    "print(confusion_matrix(y_test,y_test_pred_rf))\n",
    "print('----------------------------------')\n",
    "\n",
    "#ROC Curve\n",
    "fpr, tpr, _ = metrics.roc_curve(y_test,y_test_pred_rf)\n",
    "\n",
    "print('Model ROC CURVE : ')   \n",
    "#plotting ROC\n",
    "plt.plot(fpr,tpr)\n",
    "plt.ylabel('True Positive Rate')\n",
    "plt.xlabel('False Positive Rate')\n",
    "plt.show()"
   ]
  },
  {
   "cell_type": "markdown",
   "id": "77c4fe8e",
   "metadata": {},
   "source": [
    "## NB CLASSIFIER"
   ]
  },
  {
   "cell_type": "code",
   "execution_count": 18,
   "id": "6e6dd097",
   "metadata": {},
   "outputs": [
    {
     "name": "stdout",
     "output_type": "stream",
     "text": [
      "Model performance for Training set\n",
      "- Accuracy: 91.02285714285713\n",
      "----------------------------------\n",
      "Model performance for Test set\n",
      "- Accuracy: 85.02\n",
      "----------------------------------\n",
      "- Precision: 87.89727582292849\n",
      "----------------------------------\n",
      "- F1-Score: 84.64849354375896\n",
      "----------------------------------\n",
      "Model performance for Cross-validation\n",
      "- Accuracy: 84.51142857142857\n",
      "----------------------------------\n",
      "Model Classification report : \n",
      "              precision    recall  f1-score   support\n",
      "\n",
      "           0       0.82      0.88      0.85      7411\n",
      "           1       0.88      0.82      0.85      7589\n",
      "\n",
      "    accuracy                           0.85     15000\n",
      "   macro avg       0.85      0.85      0.85     15000\n",
      "weighted avg       0.85      0.85      0.85     15000\n",
      "\n",
      "----------------------------------\n",
      "Model Confusion report - test data : \n",
      "[[6558  853]\n",
      " [1394 6195]]\n",
      "----------------------------------\n",
      "Model ROC CURVE : \n"
     ]
    },
    {
     "data": {
      "image/png": "[encoded data removed]",
      "text/plain": [
       "<Figure size 432x288 with 1 Axes>"
      ]
     },
     "metadata": {
      "needs_background": "light"
     },
     "output_type": "display_data"
    }
   ],
   "source": [
    "from sklearn.naive_bayes import BernoulliNB\n",
    "\n",
    "bnb = BernoulliNB() # Define classifier\n",
    "bnb.fit(X_train_vec,y_train) # Train model\n",
    "\n",
    "\n",
    "# Make predictions\n",
    "y_train_pred_bnb = bnb.predict(X_train_vec)\n",
    "y_test_pred_bnb = bnb.predict(X_test_vec)\n",
    "\n",
    "#Cross validation\n",
    "bnb_cross = (cross_val_score(bnb,X_train_vec,y_train).mean())*100\n",
    "\n",
    "# Training set performance\n",
    "bnb_train_accuracy = accuracy_score(y_train, y_train_pred_bnb)*100 # Calculate Accuracy\n",
    "\n",
    "# Test set performance\n",
    "bnb_test_accuracy = accuracy_score(y_test, y_test_pred_bnb)*100 # Calculate Accuracy\n",
    "\n",
    "# Test set precision\n",
    "bnb_test_precision = precision_score(y_test, y_test_pred_bnb)*100 # Calculate Accuracy\n",
    "\n",
    "# Test set f1score\n",
    "bnb_test_f1 = f1_score(y_test, y_test_pred_bnb)*100 # Calculate Accuracy\n",
    "\n",
    "print('Model performance for Training set')\n",
    "print('- Accuracy: %s' % bnb_train_accuracy)\n",
    "print('----------------------------------')\n",
    "print('Model performance for Test set')\n",
    "print('- Accuracy: %s' % bnb_test_accuracy)\n",
    "print('----------------------------------')\n",
    "print('- Precision: %s' % bnb_test_precision)\n",
    "print('----------------------------------')\n",
    "print('- F1-Score: %s' % bnb_test_f1)\n",
    "print('----------------------------------')\n",
    "print('Model performance for Cross-validation')\n",
    "print('- Accuracy: %s' % bnb_cross)\n",
    "print('----------------------------------')\n",
    "\n",
    "#classification Report\n",
    "print('Model Classification report : ')\n",
    "print(classification_report(y_test,y_test_pred_bnb))\n",
    "print('----------------------------------')\n",
    "\n",
    "#confusion Report\n",
    "print('Model Confusion report - test data : ')\n",
    "print(confusion_matrix(y_test,y_test_pred_bnb))\n",
    "print('----------------------------------')\n",
    "\n",
    "#ROC Curve\n",
    "fpr, tpr, _ = metrics.roc_curve(y_test,y_test_pred_bnb)\n",
    "\n",
    "print('Model ROC CURVE : ')   \n",
    "#plotting ROC\n",
    "plt.plot(fpr,tpr)\n",
    "plt.ylabel('True Positive Rate')\n",
    "plt.xlabel('False Positive Rate')\n",
    "plt.show()"
   ]
  },
  {
   "cell_type": "markdown",
   "id": "fddf24d0",
   "metadata": {},
   "source": [
    "## STACKING CLASSIFIER"
   ]
  },
  {
   "cell_type": "code",
   "execution_count": 20,
   "id": "91a29e2f",
   "metadata": {},
   "outputs": [
    {
     "name": "stdout",
     "output_type": "stream",
     "text": [
      "Model performance for Training set\n",
      "- Accuracy: 99.71142857142857\n",
      "----------------------------------\n",
      "Model performance for Test set\n",
      "- Accuracy: 88.82666666666667\n",
      "----------------------------------\n",
      "- Precision: 89.08129543952413\n",
      "----------------------------------\n",
      "- F1-Score: 88.94021380493598\n",
      "----------------------------------\n",
      "Model performance for Cross-validation\n",
      "- Accuracy: 88.36571428571428\n",
      "----------------------------------\n",
      "Model Classification report : \n",
      "              precision    recall  f1-score   support\n",
      "\n",
      "           0       0.89      0.89      0.89      7411\n",
      "           1       0.89      0.89      0.89      7589\n",
      "\n",
      "    accuracy                           0.89     15000\n",
      "   macro avg       0.89      0.89      0.89     15000\n",
      "weighted avg       0.89      0.89      0.89     15000\n",
      "\n",
      "----------------------------------\n",
      "Model Confusion report - test data : \n",
      "[[6585  826]\n",
      " [ 850 6739]]\n",
      "----------------------------------\n",
      "Model ROC CURVE : \n"
     ]
    },
    {
     "data": {
      "image/png": "[encoded data removed]",
      "text/plain": [
       "<Figure size 432x288 with 1 Axes>"
      ]
     },
     "metadata": {
      "needs_background": "light"
     },
     "output_type": "display_data"
    }
   ],
   "source": [
    "# Define estimators\n",
    "from sklearn.ensemble import StackingClassifier\n",
    "\n",
    "estimator_list = [\n",
    "    ('svm',svm),\n",
    "    ('rf',rf),\n",
    "    ('log',log),\n",
    "    ('bnb',bnb),\n",
    "    ]\n",
    "\n",
    "# Build stack model\n",
    "stack_model = StackingClassifier(\n",
    "    estimators=estimator_list, final_estimator=LogisticRegression()\n",
    ")\n",
    "\n",
    "# Train stacked model\n",
    "stack_model.fit(X_train_vec,y_train)\n",
    "\n",
    "# Make predictions\n",
    "y_train_pred_stack_model = stack_model.predict(X_train_vec)\n",
    "y_test_pred_stack_model = stack_model.predict(X_test_vec)\n",
    "\n",
    "#Cross validation\n",
    "stack_model_cross = (cross_val_score(stack_model,X_train_vec,y_train).mean())*100\n",
    "\n",
    "# Training set performance\n",
    "stack_model_train_accuracy = accuracy_score(y_train, y_train_pred_stack_model)*100 # Calculate Accuracy\n",
    "\n",
    "# Test set performance\n",
    "stack_model_test_accuracy = accuracy_score(y_test, y_test_pred_stack_model)*100 # Calculate Accuracy\n",
    "\n",
    "# Test set precision\n",
    "stack_model_test_precision = precision_score(y_test, y_test_pred_stack_model)*100 # Calculate Accuracy\n",
    "\n",
    "# Test set f1score\n",
    "stack_model_test_f1 = f1_score(y_test, y_test_pred_stack_model)*100 # Calculate Accuracy\n",
    "\n",
    "print('Model performance for Training set')\n",
    "print('- Accuracy: %s' % stack_model_train_accuracy)\n",
    "print('----------------------------------')\n",
    "print('Model performance for Test set')\n",
    "print('- Accuracy: %s' % stack_model_test_accuracy)\n",
    "print('----------------------------------')\n",
    "print('- Precision: %s' % stack_model_test_precision)\n",
    "print('----------------------------------')\n",
    "print('- F1-Score: %s' % stack_model_test_f1)\n",
    "print('----------------------------------')\n",
    "print('Model performance for Cross-validation')\n",
    "print('- Accuracy: %s' % stack_model_cross)\n",
    "print('----------------------------------')\n",
    "\n",
    "#classification Report\n",
    "print('Model Classification report : ')\n",
    "print(classification_report(y_test,y_test_pred_stack_model))\n",
    "print('----------------------------------')\n",
    "\n",
    "#confusion Report\n",
    "print('Model Confusion report - test data : ')\n",
    "print(confusion_matrix(y_test,y_test_pred_stack_model))\n",
    "print('----------------------------------')\n",
    "\n",
    "#ROC Curve\n",
    "fpr, tpr, _ = metrics.roc_curve(y_test,y_test_pred_stack_model)\n",
    "\n",
    "print('Model ROC CURVE : ')   \n",
    "#plotting ROC\n",
    "plt.plot(fpr,tpr)\n",
    "plt.ylabel('True Positive Rate')\n",
    "plt.xlabel('False Positive Rate')\n",
    "plt.show()"
   ]
  },
  {
   "cell_type": "code",
   "execution_count": 21,
   "id": "ca4afb00",
   "metadata": {},
   "outputs": [],
   "source": [
    "acc_train_list = {\n",
    "'svm_linear': svm_linear_train_accuracy,\n",
    "'rf': rf_train_accuracy,\n",
    "'bnb': bnb_train_accuracy,\n",
    "'logistic': log_train_accuracy,\n",
    "'stack': stack_model_train_accuracy}\n",
    "\n",
    "acc_test_list = {\n",
    "'svm_linear': svm_linear_test_accuracy,\n",
    "'rf': rf_test_accuracy,\n",
    "'bnb': bnb_test_accuracy,\n",
    "'logistic': log_test_accuracy,\n",
    "'stack': stack_model_test_accuracy}\n",
    "     \n",
    "precision_test_list = {\n",
    "'svm_linear': svm_linear_test_precision,\n",
    "'rf': rf_test_precision,\n",
    "'bnb': bnb_test_precision,\n",
    "'logistic': log_test_precision,\n",
    "'stack': stack_model_test_precision}\n",
    "\n",
    "f1_test_list = {\n",
    "'svm_linear': svm_linear_test_f1,\n",
    "'rf': rf_test_f1,\n",
    "'bnb': bnb_test_f1,\n",
    "'logistic': log_test_f1,\n",
    "'stack': stack_model_test_f1}"
   ]
  },
  {
   "cell_type": "code",
   "execution_count": 22,
   "id": "e1497e80",
   "metadata": {},
   "outputs": [
    {
     "data": {
      "text/html": [
       "<div>\n",
       "<style scoped>\n",
       "    .dataframe tbody tr th:only-of-type {\n",
       "        vertical-align: middle;\n",
       "    }\n",
       "\n",
       "    .dataframe tbody tr th {\n",
       "        vertical-align: top;\n",
       "    }\n",
       "\n",
       "    .dataframe thead th {\n",
       "        text-align: right;\n",
       "    }\n",
       "</style>\n",
       "<table border=\"1\" class=\"dataframe\">\n",
       "  <thead>\n",
       "    <tr style=\"text-align: right;\">\n",
       "      <th></th>\n",
       "      <th>Accuracy_train</th>\n",
       "      <th>Accuracy_test</th>\n",
       "      <th>Precision_test</th>\n",
       "      <th>F1_score_test</th>\n",
       "    </tr>\n",
       "  </thead>\n",
       "  <tbody>\n",
       "    <tr>\n",
       "      <th>svm_linear</th>\n",
       "      <td>100.000000</td>\n",
       "      <td>86.173333</td>\n",
       "      <td>86.383428</td>\n",
       "      <td>86.326477</td>\n",
       "    </tr>\n",
       "    <tr>\n",
       "      <th>rf</th>\n",
       "      <td>99.405714</td>\n",
       "      <td>76.020000</td>\n",
       "      <td>80.362032</td>\n",
       "      <td>74.602838</td>\n",
       "    </tr>\n",
       "    <tr>\n",
       "      <th>bnb</th>\n",
       "      <td>91.022857</td>\n",
       "      <td>85.020000</td>\n",
       "      <td>87.897276</td>\n",
       "      <td>84.648494</td>\n",
       "    </tr>\n",
       "    <tr>\n",
       "      <th>logistic</th>\n",
       "      <td>99.708571</td>\n",
       "      <td>88.060000</td>\n",
       "      <td>88.114646</td>\n",
       "      <td>88.213228</td>\n",
       "    </tr>\n",
       "    <tr>\n",
       "      <th>stack</th>\n",
       "      <td>99.711429</td>\n",
       "      <td>88.826667</td>\n",
       "      <td>89.081295</td>\n",
       "      <td>88.940214</td>\n",
       "    </tr>\n",
       "  </tbody>\n",
       "</table>\n",
       "</div>"
      ],
      "text/plain": [
       "            Accuracy_train  Accuracy_test  Precision_test  F1_score_test\n",
       "svm_linear      100.000000      86.173333       86.383428      86.326477\n",
       "rf               99.405714      76.020000       80.362032      74.602838\n",
       "bnb              91.022857      85.020000       87.897276      84.648494\n",
       "logistic         99.708571      88.060000       88.114646      88.213228\n",
       "stack            99.711429      88.826667       89.081295      88.940214"
      ]
     },
     "execution_count": 22,
     "metadata": {},
     "output_type": "execute_result"
    }
   ],
   "source": [
    "import pandas as pd\n",
    "\n",
    "acc_tr_df = pd.DataFrame.from_dict(acc_train_list, orient='index', columns=['Accuracy_train'])\n",
    "acc_te_df = pd.DataFrame.from_dict(acc_test_list, orient='index', columns=['Accuracy_test'])\n",
    "pre_te_df = pd.DataFrame.from_dict(precision_test_list, orient='index', columns=['Precision_test'])\n",
    "f_te_df = pd.DataFrame.from_dict(f1_test_list, orient='index', columns=['F1_score_test'])\n",
    "df = pd.concat([acc_tr_df, acc_te_df, pre_te_df, f_te_df], axis=1)\n",
    "df"
   ]
  },
  {
   "cell_type": "code",
   "execution_count": 23,
   "id": "4eae139b",
   "metadata": {},
   "outputs": [],
   "source": [
    "import pandas as pd\n",
    "import matplotlib.pyplot as plt\n",
    "import seaborn as sns\n",
    "import itertools"
   ]
  },
  {
   "cell_type": "code",
   "execution_count": 24,
   "id": "de9913d0",
   "metadata": {},
   "outputs": [
    {
     "data": {
      "text/plain": [
       "<AxesSubplot:>"
      ]
     },
     "execution_count": 24,
     "metadata": {},
     "output_type": "execute_result"
    },
    {
     "data": {
      "image/png": "[encoded data removed]",
      "text/plain": [
       "<Figure size 432x288 with 1 Axes>"
      ]
     },
     "metadata": {
      "needs_background": "light"
     },
     "output_type": "display_data"
    }
   ],
   "source": [
    "df.plot.bar()"
   ]
  },
  {
   "cell_type": "code",
   "execution_count": 26,
   "id": "c7eaffff",
   "metadata": {},
   "outputs": [
    {
     "data": {
      "text/plain": [
       "<AxesSubplot:>"
      ]
     },
     "execution_count": 26,
     "metadata": {},
     "output_type": "execute_result"
    },
    {
     "data": {
      "image/png": "[encoded data removed]",
      "text/plain": [
       "<Figure size 432x288 with 1 Axes>"
      ]
     },
     "metadata": {
      "needs_background": "light"
     },
     "output_type": "display_data"
    }
   ],
   "source": [
    "df.plot.bar(stacked=True)"
   ]
  },
  {
   "cell_type": "code",
   "execution_count": null,
   "id": "87a79bff",
   "metadata": {},
   "outputs": [],
   "source": []
  }
 ],
 "metadata": {
  "kernelspec": {
   "display_name": "Python 3 (ipykernel)",
   "language": "python",
   "name": "python3"
  },
  "language_info": {
   "codemirror_mode": {
    "name": "ipython",
    "version": 3
   },
   "file_extension": ".py",
   "mimetype": "text/x-python",
   "name": "python",
   "nbconvert_exporter": "python",
   "pygments_lexer": "ipython3",
   "version": "3.9.12"
  }
 },
 "nbformat": 4,
 "nbformat_minor": 5
}
