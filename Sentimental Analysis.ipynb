{
 "cells": [
  {
   "cell_type": "code",
   "execution_count": 1,
   "id": "3353e7e7",
   "metadata": {},
   "outputs": [
    {
     "name": "stderr",
     "output_type": "stream",
     "text": [
      "[nltk_data] Downloading package punkt to\n",
      "[nltk_data]     C:\\Users\\Jaswanthsai\\AppData\\Roaming\\nltk_data...\n",
      "[nltk_data]   Package punkt is already up-to-date!\n",
      "[nltk_data] Downloading package averaged_perceptron_tagger to\n",
      "[nltk_data]     C:\\Users\\Jaswanthsai\\AppData\\Roaming\\nltk_data...\n",
      "[nltk_data]   Package averaged_perceptron_tagger is already up-to-\n",
      "[nltk_data]       date!\n",
      "[nltk_data] Downloading package maxent_ne_chunker to\n",
      "[nltk_data]     C:\\Users\\Jaswanthsai\\AppData\\Roaming\\nltk_data...\n",
      "[nltk_data]   Package maxent_ne_chunker is already up-to-date!\n",
      "[nltk_data] Downloading package words to\n",
      "[nltk_data]     C:\\Users\\Jaswanthsai\\AppData\\Roaming\\nltk_data...\n",
      "[nltk_data]   Package words is already up-to-date!\n"
     ]
    }
   ],
   "source": [
    "import pandas as pd\n",
    "import numpy as np\n",
    "import matplotlib.pyplot as plt\n",
    "import seaborn as sns\n",
    "\n",
    "plt.style.use('ggplot')\n",
    "\n",
    "import nltk\n",
    "nltk.download('punkt')\n",
    "nltk.download('averaged_perceptron_tagger')\n",
    "nltk.download('maxent_ne_chunker')\n",
    "nltk.download('words')\n",
    "from sklearn.preprocessing import LabelEncoder\n",
    "le = LabelEncoder()\n",
    " "
   ]
  },
  {
   "cell_type": "code",
   "execution_count": 2,
   "id": "956db583",
   "metadata": {},
   "outputs": [],
   "source": [
    "df = pd.read_csv('IMDB Dataset.csv')"
   ]
  },
  {
   "cell_type": "code",
   "execution_count": 3,
   "id": "6d03930f",
   "metadata": {},
   "outputs": [
    {
     "name": "stdout",
     "output_type": "stream",
     "text": [
      "(50000, 2)\n",
      "(50000, 2)\n"
     ]
    }
   ],
   "source": [
    "print(df.shape)\n",
    "df1 = df.head(50000)\n",
    "print(df1.shape)"
   ]
  },
  {
   "cell_type": "code",
   "execution_count": 4,
   "id": "47e1eabe",
   "metadata": {},
   "outputs": [
    {
     "data": {
      "text/html": [
       "<div>\n",
       "<style scoped>\n",
       "    .dataframe tbody tr th:only-of-type {\n",
       "        vertical-align: middle;\n",
       "    }\n",
       "\n",
       "    .dataframe tbody tr th {\n",
       "        vertical-align: top;\n",
       "    }\n",
       "\n",
       "    .dataframe thead th {\n",
       "        text-align: right;\n",
       "    }\n",
       "</style>\n",
       "<table border=\"1\" class=\"dataframe\">\n",
       "  <thead>\n",
       "    <tr style=\"text-align: right;\">\n",
       "      <th></th>\n",
       "      <th>review</th>\n",
       "      <th>sentiment</th>\n",
       "    </tr>\n",
       "  </thead>\n",
       "  <tbody>\n",
       "    <tr>\n",
       "      <th>0</th>\n",
       "      <td>One of the other reviewers has mentioned that ...</td>\n",
       "      <td>positive</td>\n",
       "    </tr>\n",
       "    <tr>\n",
       "      <th>1</th>\n",
       "      <td>A wonderful little production. &lt;br /&gt;&lt;br /&gt;The...</td>\n",
       "      <td>positive</td>\n",
       "    </tr>\n",
       "    <tr>\n",
       "      <th>2</th>\n",
       "      <td>I thought this was a wonderful way to spend ti...</td>\n",
       "      <td>positive</td>\n",
       "    </tr>\n",
       "    <tr>\n",
       "      <th>3</th>\n",
       "      <td>Basically there's a family where a little boy ...</td>\n",
       "      <td>negative</td>\n",
       "    </tr>\n",
       "    <tr>\n",
       "      <th>4</th>\n",
       "      <td>Petter Mattei's \"Love in the Time of Money\" is...</td>\n",
       "      <td>positive</td>\n",
       "    </tr>\n",
       "  </tbody>\n",
       "</table>\n",
       "</div>"
      ],
      "text/plain": [
       "                                              review sentiment\n",
       "0  One of the other reviewers has mentioned that ...  positive\n",
       "1  A wonderful little production. <br /><br />The...  positive\n",
       "2  I thought this was a wonderful way to spend ti...  positive\n",
       "3  Basically there's a family where a little boy ...  negative\n",
       "4  Petter Mattei's \"Love in the Time of Money\" is...  positive"
      ]
     },
     "execution_count": 4,
     "metadata": {},
     "output_type": "execute_result"
    }
   ],
   "source": [
    "df1.head()"
   ]
  },
  {
   "cell_type": "code",
   "execution_count": 5,
   "id": "aead8065",
   "metadata": {},
   "outputs": [
    {
     "data": {
      "text/plain": [
       "array([1, 1, 1, ..., 0, 0, 0])"
      ]
     },
     "execution_count": 5,
     "metadata": {},
     "output_type": "execute_result"
    }
   ],
   "source": [
    "label = le.fit_transform(df1['sentiment'])\n",
    "label"
   ]
  },
  {
   "cell_type": "code",
   "execution_count": 6,
   "id": "7bdb7244",
   "metadata": {},
   "outputs": [],
   "source": [
    "df1.insert(2, \"Sent_vale\", label)"
   ]
  },
  {
   "cell_type": "code",
   "execution_count": 7,
   "id": "42b6a741",
   "metadata": {},
   "outputs": [
    {
     "data": {
      "text/html": [
       "<div>\n",
       "<style scoped>\n",
       "    .dataframe tbody tr th:only-of-type {\n",
       "        vertical-align: middle;\n",
       "    }\n",
       "\n",
       "    .dataframe tbody tr th {\n",
       "        vertical-align: top;\n",
       "    }\n",
       "\n",
       "    .dataframe thead th {\n",
       "        text-align: right;\n",
       "    }\n",
       "</style>\n",
       "<table border=\"1\" class=\"dataframe\">\n",
       "  <thead>\n",
       "    <tr style=\"text-align: right;\">\n",
       "      <th></th>\n",
       "      <th>review</th>\n",
       "      <th>sentiment</th>\n",
       "      <th>Sent_vale</th>\n",
       "    </tr>\n",
       "  </thead>\n",
       "  <tbody>\n",
       "    <tr>\n",
       "      <th>0</th>\n",
       "      <td>One of the other reviewers has mentioned that ...</td>\n",
       "      <td>positive</td>\n",
       "      <td>1</td>\n",
       "    </tr>\n",
       "    <tr>\n",
       "      <th>1</th>\n",
       "      <td>A wonderful little production. &lt;br /&gt;&lt;br /&gt;The...</td>\n",
       "      <td>positive</td>\n",
       "      <td>1</td>\n",
       "    </tr>\n",
       "    <tr>\n",
       "      <th>2</th>\n",
       "      <td>I thought this was a wonderful way to spend ti...</td>\n",
       "      <td>positive</td>\n",
       "      <td>1</td>\n",
       "    </tr>\n",
       "    <tr>\n",
       "      <th>3</th>\n",
       "      <td>Basically there's a family where a little boy ...</td>\n",
       "      <td>negative</td>\n",
       "      <td>0</td>\n",
       "    </tr>\n",
       "    <tr>\n",
       "      <th>4</th>\n",
       "      <td>Petter Mattei's \"Love in the Time of Money\" is...</td>\n",
       "      <td>positive</td>\n",
       "      <td>1</td>\n",
       "    </tr>\n",
       "    <tr>\n",
       "      <th>...</th>\n",
       "      <td>...</td>\n",
       "      <td>...</td>\n",
       "      <td>...</td>\n",
       "    </tr>\n",
       "    <tr>\n",
       "      <th>49995</th>\n",
       "      <td>I thought this movie did a down right good job...</td>\n",
       "      <td>positive</td>\n",
       "      <td>1</td>\n",
       "    </tr>\n",
       "    <tr>\n",
       "      <th>49996</th>\n",
       "      <td>Bad plot, bad dialogue, bad acting, idiotic di...</td>\n",
       "      <td>negative</td>\n",
       "      <td>0</td>\n",
       "    </tr>\n",
       "    <tr>\n",
       "      <th>49997</th>\n",
       "      <td>I am a Catholic taught in parochial elementary...</td>\n",
       "      <td>negative</td>\n",
       "      <td>0</td>\n",
       "    </tr>\n",
       "    <tr>\n",
       "      <th>49998</th>\n",
       "      <td>I'm going to have to disagree with the previou...</td>\n",
       "      <td>negative</td>\n",
       "      <td>0</td>\n",
       "    </tr>\n",
       "    <tr>\n",
       "      <th>49999</th>\n",
       "      <td>No one expects the Star Trek movies to be high...</td>\n",
       "      <td>negative</td>\n",
       "      <td>0</td>\n",
       "    </tr>\n",
       "  </tbody>\n",
       "</table>\n",
       "<p>50000 rows × 3 columns</p>\n",
       "</div>"
      ],
      "text/plain": [
       "                                                  review sentiment  Sent_vale\n",
       "0      One of the other reviewers has mentioned that ...  positive          1\n",
       "1      A wonderful little production. <br /><br />The...  positive          1\n",
       "2      I thought this was a wonderful way to spend ti...  positive          1\n",
       "3      Basically there's a family where a little boy ...  negative          0\n",
       "4      Petter Mattei's \"Love in the Time of Money\" is...  positive          1\n",
       "...                                                  ...       ...        ...\n",
       "49995  I thought this movie did a down right good job...  positive          1\n",
       "49996  Bad plot, bad dialogue, bad acting, idiotic di...  negative          0\n",
       "49997  I am a Catholic taught in parochial elementary...  negative          0\n",
       "49998  I'm going to have to disagree with the previou...  negative          0\n",
       "49999  No one expects the Star Trek movies to be high...  negative          0\n",
       "\n",
       "[50000 rows x 3 columns]"
      ]
     },
     "execution_count": 7,
     "metadata": {},
     "output_type": "execute_result"
    }
   ],
   "source": [
    "df1"
   ]
  },
  {
   "cell_type": "code",
   "execution_count": 8,
   "id": "e7263c7d",
   "metadata": {},
   "outputs": [
    {
     "data": {
      "image/png": "[encoded data removed]",
      "text/plain": [
       "<Figure size 720x360 with 1 Axes>"
      ]
     },
     "metadata": {},
     "output_type": "display_data"
    }
   ],
   "source": [
    "ax = df1['Sent_vale'].value_counts().sort_index() \\\n",
    "    .plot(kind='bar',\n",
    "          title='Disribution',\n",
    "          figsize=(10, 5))\n",
    "ax.set_xlabel('Reviews')\n",
    "plt.show()"
   ]
  },
  {
   "cell_type": "code",
   "execution_count": 9,
   "id": "5d129e85",
   "metadata": {},
   "outputs": [
    {
     "name": "stdout",
     "output_type": "stream",
     "text": [
      "Probably my all-time favorite movie, a story of selflessness, sacrifice and dedication to a noble cause, but it's not preachy or boring. It just never gets old, despite my having seen it some 15 or more times in the last 25 years. Paul Lukas' performance brings tears to my eyes, and Bette Davis, in one of her very few truly sympathetic roles, is a delight. The kids are, as grandma says, more like \"dressed-up midgets\" than children, but that only makes them more fun to watch. And the mother's slow awakening to what's happening in the world and under her own roof is believable and startling. If I had a dozen thumbs, they'd all be \"up\" for this movie.\n"
     ]
    }
   ],
   "source": [
    "example = df1['review'][5]\n",
    "print(example)"
   ]
  },
  {
   "cell_type": "code",
   "execution_count": 10,
   "id": "1254f003",
   "metadata": {},
   "outputs": [
    {
     "data": {
      "text/plain": [
       "['Probably',\n",
       " 'my',\n",
       " 'all-time',\n",
       " 'favorite',\n",
       " 'movie',\n",
       " ',',\n",
       " 'a',\n",
       " 'story',\n",
       " 'of',\n",
       " 'selflessness']"
      ]
     },
     "execution_count": 10,
     "metadata": {},
     "output_type": "execute_result"
    }
   ],
   "source": [
    "tokens = nltk.word_tokenize(example)\n",
    "tokens[:10]"
   ]
  },
  {
   "cell_type": "code",
   "execution_count": 11,
   "id": "8de6415b",
   "metadata": {},
   "outputs": [
    {
     "data": {
      "text/plain": [
       "[('Probably', 'RB'),\n",
       " ('my', 'PRP$'),\n",
       " ('all-time', 'JJ'),\n",
       " ('favorite', 'JJ'),\n",
       " ('movie', 'NN'),\n",
       " (',', ','),\n",
       " ('a', 'DT'),\n",
       " ('story', 'NN'),\n",
       " ('of', 'IN'),\n",
       " ('selflessness', 'NN')]"
      ]
     },
     "execution_count": 11,
     "metadata": {},
     "output_type": "execute_result"
    }
   ],
   "source": [
    "tagged = nltk.pos_tag(tokens)\n",
    "tagged[:10]"
   ]
  },
  {
   "cell_type": "code",
   "execution_count": 28,
   "id": "28bed816",
   "metadata": {},
   "outputs": [
    {
     "name": "stdout",
     "output_type": "stream",
     "text": [
      "(S\n",
      "  Probably/RB\n",
      "  my/PRP$\n",
      "  all-time/JJ\n",
      "  favorite/JJ\n",
      "  movie/NN\n",
      "  ,/,\n",
      "  a/DT\n",
      "  story/NN\n",
      "  of/IN\n",
      "  selflessness/NN\n",
      "  ,/,\n",
      "  sacrifice/NN\n",
      "  and/CC\n",
      "  dedication/NN\n",
      "  to/TO\n",
      "  a/DT\n",
      "  noble/JJ\n",
      "  cause/NN\n",
      "  ,/,\n",
      "  but/CC\n",
      "  it/PRP\n",
      "  's/VBZ\n",
      "  not/RB\n",
      "  preachy/JJ\n",
      "  or/CC\n",
      "  boring/JJ\n",
      "  ./.\n",
      "  It/PRP\n",
      "  just/RB\n",
      "  never/RB\n",
      "  gets/VBZ\n",
      "  old/JJ\n",
      "  ,/,\n",
      "  despite/IN\n",
      "  my/PRP$\n",
      "  having/VBG\n",
      "  seen/VBN\n",
      "  it/PRP\n",
      "  some/DT\n",
      "  15/CD\n",
      "  or/CC\n",
      "  more/JJR\n",
      "  times/NNS\n",
      "  in/IN\n",
      "  the/DT\n",
      "  last/JJ\n",
      "  25/CD\n",
      "  years/NNS\n",
      "  ./.\n",
      "  (PERSON Paul/NNP Lukas/NNP)\n",
      "  '/POS\n",
      "  performance/NN\n",
      "  brings/VBZ\n",
      "  tears/NNS\n",
      "  to/TO\n",
      "  my/PRP$\n",
      "  eyes/NNS\n",
      "  ,/,\n",
      "  and/CC\n",
      "  (PERSON Bette/NNP Davis/NNP)\n",
      "  ,/,\n",
      "  in/IN\n",
      "  one/CD\n",
      "  of/IN\n",
      "  her/PRP$\n",
      "  very/RB\n",
      "  few/JJ\n",
      "  truly/RB\n",
      "  sympathetic/JJ\n",
      "  roles/NNS\n",
      "  ,/,\n",
      "  is/VBZ\n",
      "  a/DT\n",
      "  delight/NN\n",
      "  ./.\n",
      "  The/DT\n",
      "  kids/NNS\n",
      "  are/VBP\n",
      "  ,/,\n",
      "  as/IN\n",
      "  grandma/NN\n",
      "  says/VBZ\n",
      "  ,/,\n",
      "  more/RBR\n",
      "  like/IN\n",
      "  ``/``\n",
      "  dressed-up/JJ\n",
      "  midgets/NNS\n",
      "  ''/''\n",
      "  than/IN\n",
      "  children/NNS\n",
      "  ,/,\n",
      "  but/CC\n",
      "  that/IN\n",
      "  only/RB\n",
      "  makes/VBZ\n",
      "  them/PRP\n",
      "  more/RBR\n",
      "  fun/JJ\n",
      "  to/TO\n",
      "  watch/VB\n",
      "  ./.\n",
      "  And/CC\n",
      "  the/DT\n",
      "  mother/NN\n",
      "  's/POS\n",
      "  slow/JJ\n",
      "  awakening/NN\n",
      "  to/TO\n",
      "  what/WP\n",
      "  's/VBZ\n",
      "  happening/VBG\n",
      "  in/IN\n",
      "  the/DT\n",
      "  world/NN\n",
      "  and/CC\n",
      "  under/IN\n",
      "  her/PRP$\n",
      "  own/JJ\n",
      "  roof/NN\n",
      "  is/VBZ\n",
      "  believable/JJ\n",
      "  and/CC\n",
      "  startling/VBG\n",
      "  ./.\n",
      "  If/IN\n",
      "  I/PRP\n",
      "  had/VBD\n",
      "  a/DT\n",
      "  dozen/NN\n",
      "  thumbs/NN\n",
      "  ,/,\n",
      "  they/PRP\n",
      "  'd/MD\n",
      "  all/DT\n",
      "  be/VB\n",
      "  ``/``\n",
      "  up/RP\n",
      "  ''/''\n",
      "  for/IN\n",
      "  this/DT\n",
      "  movie/NN\n",
      "  ./.)\n"
     ]
    }
   ],
   "source": [
    "entities = nltk.chunk.ne_chunk(tagged)\n",
    "entities.pprint()"
   ]
  },
  {
   "cell_type": "code",
   "execution_count": 13,
   "id": "3deedf5e",
   "metadata": {},
   "outputs": [
    {
     "name": "stderr",
     "output_type": "stream",
     "text": [
      "[nltk_data] Downloading package vader_lexicon to\n",
      "[nltk_data]     C:\\Users\\Jaswanthsai\\AppData\\Roaming\\nltk_data...\n",
      "[nltk_data]   Package vader_lexicon is already up-to-date!\n"
     ]
    }
   ],
   "source": [
    "from nltk.sentiment import SentimentIntensityAnalyzer\n",
    "from tqdm.notebook import tqdm\n",
    "nltk.download('vader_lexicon')\n",
    "\n",
    "sia = SentimentIntensityAnalyzer()"
   ]
  },
  {
   "cell_type": "code",
   "execution_count": 14,
   "id": "c69b2811",
   "metadata": {},
   "outputs": [
    {
     "data": {
      "text/plain": [
       "{'neg': 0.0, 'neu': 0.318, 'pos': 0.682, 'compound': 0.6468}"
      ]
     },
     "execution_count": 14,
     "metadata": {},
     "output_type": "execute_result"
    }
   ],
   "source": [
    "sia.polarity_scores('I am so happy!')"
   ]
  },
  {
   "cell_type": "code",
   "execution_count": 15,
   "id": "1bfa4c66",
   "metadata": {},
   "outputs": [
    {
     "data": {
      "text/plain": [
       "{'neg': 0.017, 'neu': 0.758, 'pos': 0.225, 'compound': 0.9828}"
      ]
     },
     "execution_count": 15,
     "metadata": {},
     "output_type": "execute_result"
    }
   ],
   "source": [
    "sia.polarity_scores(example)"
   ]
  },
  {
   "cell_type": "code",
   "execution_count": 16,
   "id": "bfe4880e",
   "metadata": {
    "scrolled": true
   },
   "outputs": [
    {
     "data": {
      "application/vnd.jupyter.widget-view+json": {
       "model_id": "8ad7e09017b046ed857bb5c7283e9048",
       "version_major": 2,
       "version_minor": 0
      },
      "text/plain": [
       "  0%|          | 0/50000 [00:00<?, ?it/s]"
      ]
     },
     "metadata": {},
     "output_type": "display_data"
    }
   ],
   "source": [
    "res = {}\n",
    "for i, row in tqdm(df1.iterrows(), total=len(df1)):\n",
    "    text = row['review']\n",
    "    res[i] = sia.polarity_scores(text)"
   ]
  },
  {
   "cell_type": "code",
   "execution_count": 17,
   "id": "3a3a8169",
   "metadata": {},
   "outputs": [
    {
     "name": "stdout",
     "output_type": "stream",
     "text": [
      "         neg    neu    pos  compound\n",
      "0      0.203  0.748  0.048   -0.9951\n",
      "1      0.053  0.776  0.172    0.9641\n",
      "2      0.094  0.714  0.192    0.9605\n",
      "3      0.138  0.797  0.065   -0.9213\n",
      "4      0.052  0.801  0.147    0.9744\n",
      "...      ...    ...    ...       ...\n",
      "49995  0.047  0.753  0.199    0.9890\n",
      "49996  0.166  0.720  0.114   -0.6693\n",
      "49997  0.208  0.683  0.108   -0.9851\n",
      "49998  0.105  0.813  0.082   -0.7648\n",
      "49999  0.135  0.723  0.141    0.4329\n",
      "\n",
      "[50000 rows x 4 columns]\n"
     ]
    }
   ],
   "source": [
    "vaders = pd.DataFrame(res).T\n",
    "print(vaders)"
   ]
  },
  {
   "cell_type": "code",
   "execution_count": 18,
   "id": "03e10718",
   "metadata": {},
   "outputs": [],
   "source": [
    "vaders.insert(4, \"Sent_vale\", label)"
   ]
  },
  {
   "cell_type": "code",
   "execution_count": 19,
   "id": "af617382",
   "metadata": {},
   "outputs": [
    {
     "name": "stdout",
     "output_type": "stream",
     "text": [
      "         neg    neu    pos  compound  Sent_vale\n",
      "0      0.203  0.748  0.048   -0.9951          1\n",
      "1      0.053  0.776  0.172    0.9641          1\n",
      "2      0.094  0.714  0.192    0.9605          1\n",
      "3      0.138  0.797  0.065   -0.9213          0\n",
      "4      0.052  0.801  0.147    0.9744          1\n",
      "...      ...    ...    ...       ...        ...\n",
      "49995  0.047  0.753  0.199    0.9890          1\n",
      "49996  0.166  0.720  0.114   -0.6693          0\n",
      "49997  0.208  0.683  0.108   -0.9851          0\n",
      "49998  0.105  0.813  0.082   -0.7648          0\n",
      "49999  0.135  0.723  0.141    0.4329          0\n",
      "\n",
      "[50000 rows x 5 columns]\n"
     ]
    }
   ],
   "source": [
    "print(vaders)"
   ]
  },
  {
   "cell_type": "code",
   "execution_count": 20,
   "id": "5abcc88c",
   "metadata": {},
   "outputs": [
    {
     "name": "stdout",
     "output_type": "stream",
     "text": [
      "<class 'pandas.core.frame.DataFrame'>\n",
      "Int64Index: 50000 entries, 0 to 49999\n",
      "Data columns (total 5 columns):\n",
      " #   Column     Non-Null Count  Dtype  \n",
      "---  ------     --------------  -----  \n",
      " 0   neg        50000 non-null  float64\n",
      " 1   neu        50000 non-null  float64\n",
      " 2   pos        50000 non-null  float64\n",
      " 3   compound   50000 non-null  float64\n",
      " 4   Sent_vale  50000 non-null  int32  \n",
      "dtypes: float64(4), int32(1)\n",
      "memory usage: 2.1 MB\n"
     ]
    }
   ],
   "source": [
    "vaders.info()"
   ]
  },
  {
   "cell_type": "code",
   "execution_count": 114,
   "id": "ffc567a4",
   "metadata": {
    "scrolled": true
   },
   "outputs": [],
   "source": [
    "r = []\n",
    "\n",
    "for x in vaders[\"compound\"]:\n",
    "    if x > 0.82:\n",
    "        r.append(1)\n",
    "    else:\n",
    "        r.append(0)\n"
   ]
  },
  {
   "cell_type": "code",
   "execution_count": 115,
   "id": "490c0981",
   "metadata": {
    "scrolled": false
   },
   "outputs": [
    {
     "name": "stdout",
     "output_type": "stream",
     "text": [
      "Accuracy score :  72.214\n",
      "Precision score :  72.20245472354375\n",
      "F1 score :  72.21399812166626\n"
     ]
    }
   ],
   "source": [
    "from sklearn.metrics import f1_score,accuracy_score,precision_score\n",
    "print(\"Accuracy score : \",accuracy_score(vaders[\"Sent_vale\"],r)*100)\n",
    "print(\"Precision score : \",precision_score(vaders[\"Sent_vale\"],r)*100)\n",
    "print(\"F1 score : \",f1_score(vaders[\"Sent_vale\"],r, average='weighted')*100)"
   ]
  },
  {
   "cell_type": "code",
   "execution_count": 116,
   "id": "bc7845c9",
   "metadata": {},
   "outputs": [
    {
     "ename": "ValueError",
     "evalue": "cannot insert pred_vale, already exists",
     "output_type": "error",
     "traceback": [
      "\u001b[1;31m---------------------------------------------------------------------------\u001b[0m",
      "\u001b[1;31mValueError\u001b[0m                                Traceback (most recent call last)",
      "Input \u001b[1;32mIn [116]\u001b[0m, in \u001b[0;36m<cell line: 1>\u001b[1;34m()\u001b[0m\n\u001b[1;32m----> 1\u001b[0m \u001b[43mvaders\u001b[49m\u001b[38;5;241;43m.\u001b[39;49m\u001b[43minsert\u001b[49m\u001b[43m(\u001b[49m\u001b[38;5;241;43m5\u001b[39;49m\u001b[43m,\u001b[49m\u001b[43m \u001b[49m\u001b[38;5;124;43m\"\u001b[39;49m\u001b[38;5;124;43mpred_vale\u001b[39;49m\u001b[38;5;124;43m\"\u001b[39;49m\u001b[43m,\u001b[49m\u001b[43m \u001b[49m\u001b[43mr\u001b[49m\u001b[43m)\u001b[49m\n",
      "File \u001b[1;32m~\\anaconda3\\lib\\site-packages\\pandas\\core\\frame.py:4440\u001b[0m, in \u001b[0;36mDataFrame.insert\u001b[1;34m(self, loc, column, value, allow_duplicates)\u001b[0m\n\u001b[0;32m   4434\u001b[0m     \u001b[38;5;28;01mraise\u001b[39;00m \u001b[38;5;167;01mValueError\u001b[39;00m(\n\u001b[0;32m   4435\u001b[0m         \u001b[38;5;124m\"\u001b[39m\u001b[38;5;124mCannot specify \u001b[39m\u001b[38;5;124m'\u001b[39m\u001b[38;5;124mallow_duplicates=True\u001b[39m\u001b[38;5;124m'\u001b[39m\u001b[38;5;124m when \u001b[39m\u001b[38;5;124m\"\u001b[39m\n\u001b[0;32m   4436\u001b[0m         \u001b[38;5;124m\"\u001b[39m\u001b[38;5;124m'\u001b[39m\u001b[38;5;124mself.flags.allows_duplicate_labels\u001b[39m\u001b[38;5;124m'\u001b[39m\u001b[38;5;124m is False.\u001b[39m\u001b[38;5;124m\"\u001b[39m\n\u001b[0;32m   4437\u001b[0m     )\n\u001b[0;32m   4438\u001b[0m \u001b[38;5;28;01mif\u001b[39;00m \u001b[38;5;129;01mnot\u001b[39;00m allow_duplicates \u001b[38;5;129;01mand\u001b[39;00m column \u001b[38;5;129;01min\u001b[39;00m \u001b[38;5;28mself\u001b[39m\u001b[38;5;241m.\u001b[39mcolumns:\n\u001b[0;32m   4439\u001b[0m     \u001b[38;5;66;03m# Should this be a different kind of error??\u001b[39;00m\n\u001b[1;32m-> 4440\u001b[0m     \u001b[38;5;28;01mraise\u001b[39;00m \u001b[38;5;167;01mValueError\u001b[39;00m(\u001b[38;5;124mf\u001b[39m\u001b[38;5;124m\"\u001b[39m\u001b[38;5;124mcannot insert \u001b[39m\u001b[38;5;132;01m{\u001b[39;00mcolumn\u001b[38;5;132;01m}\u001b[39;00m\u001b[38;5;124m, already exists\u001b[39m\u001b[38;5;124m\"\u001b[39m)\n\u001b[0;32m   4441\u001b[0m \u001b[38;5;28;01mif\u001b[39;00m \u001b[38;5;129;01mnot\u001b[39;00m \u001b[38;5;28misinstance\u001b[39m(loc, \u001b[38;5;28mint\u001b[39m):\n\u001b[0;32m   4442\u001b[0m     \u001b[38;5;28;01mraise\u001b[39;00m \u001b[38;5;167;01mTypeError\u001b[39;00m(\u001b[38;5;124m\"\u001b[39m\u001b[38;5;124mloc must be int\u001b[39m\u001b[38;5;124m\"\u001b[39m)\n",
      "\u001b[1;31mValueError\u001b[0m: cannot insert pred_vale, already exists"
     ]
    }
   ],
   "source": [
    "\n",
    "vaders.insert(5, \"pred_vale\", r)"
   ]
  },
  {
   "cell_type": "code",
   "execution_count": 23,
   "id": "e122ec87",
   "metadata": {},
   "outputs": [
    {
     "name": "stdout",
     "output_type": "stream",
     "text": [
      "         neg    neu    pos  compound  Sent_vale  pred_vale\n",
      "0      0.203  0.748  0.048   -0.9951          1          0\n",
      "1      0.053  0.776  0.172    0.9641          1          1\n",
      "2      0.094  0.714  0.192    0.9605          1          1\n",
      "3      0.138  0.797  0.065   -0.9213          0          0\n",
      "4      0.052  0.801  0.147    0.9744          1          1\n",
      "...      ...    ...    ...       ...        ...        ...\n",
      "49995  0.047  0.753  0.199    0.9890          1          1\n",
      "49996  0.166  0.720  0.114   -0.6693          0          0\n",
      "49997  0.208  0.683  0.108   -0.9851          0          0\n",
      "49998  0.105  0.813  0.082   -0.7648          0          0\n",
      "49999  0.135  0.723  0.141    0.4329          0          1\n",
      "\n",
      "[50000 rows x 6 columns]\n"
     ]
    }
   ],
   "source": [
    "print(vaders)"
   ]
  },
  {
   "cell_type": "code",
   "execution_count": 55,
   "id": "21b41262",
   "metadata": {},
   "outputs": [
    {
     "name": "stdout",
     "output_type": "stream",
     "text": [
      "[[13427 11573]\n",
      " [ 3611 21389]]\n"
     ]
    }
   ],
   "source": [
    "from sklearn.metrics import confusion_matrix\n",
    "cf_matrix = confusion_matrix(vaders[\"Sent_vale\"],r)\n",
    "print(cf_matrix)"
   ]
  },
  {
   "cell_type": "code",
   "execution_count": 49,
   "id": "afa66ceb",
   "metadata": {},
   "outputs": [
    {
     "data": {
      "text/plain": [
       "<AxesSubplot:>"
      ]
     },
     "execution_count": 49,
     "metadata": {},
     "output_type": "execute_result"
    },
    {
     "data": {
      "image/png": "[encoded data removed]",
      "text/plain": [
       "<Figure size 432x288 with 2 Axes>"
      ]
     },
     "metadata": {},
     "output_type": "display_data"
    }
   ],
   "source": [
    "import seaborn as sns\n",
    "sns.heatmap(cf_matrix, annot=True)"
   ]
  },
  {
   "cell_type": "code",
   "execution_count": 117,
   "id": "06fb3af6",
   "metadata": {},
   "outputs": [
    {
     "name": "stdout",
     "output_type": "stream",
     "text": [
      "              precision    recall  f1-score   support\n",
      "\n",
      "           0       0.72      0.72      0.72     25000\n",
      "           1       0.72      0.72      0.72     25000\n",
      "\n",
      "    accuracy                           0.72     50000\n",
      "   macro avg       0.72      0.72      0.72     50000\n",
      "weighted avg       0.72      0.72      0.72     50000\n",
      "\n"
     ]
    }
   ],
   "source": [
    "from sklearn.metrics import classification_report\n",
    "print(classification_report(vaders[\"Sent_vale\"], r))"
   ]
  },
  {
   "cell_type": "code",
   "execution_count": 119,
   "id": "9203d07d",
   "metadata": {},
   "outputs": [
    {
     "name": "stdout",
     "output_type": "stream",
     "text": [
      "Model ROC CURVE : \n"
     ]
    },
    {
     "data": {
      "image/png": "[encoded data removed]",
      "text/plain": [
       "<Figure size 432x288 with 1 Axes>"
      ]
     },
     "metadata": {},
     "output_type": "display_data"
    }
   ],
   "source": [
    "from sklearn import metrics\n",
    "import matplotlib.pyplot as plt\n",
    "#ROC Curve\n",
    "fpr, tpr, _ = metrics.roc_curve(vaders[\"Sent_vale\"],r)\n",
    "\n",
    "print('Model ROC CURVE : ')   \n",
    "#plotting ROC\n",
    "plt.plot(fpr,tpr)\n",
    "plt.ylabel('True Positive Rate')\n",
    "plt.xlabel('False Positive Rate')\n",
    "plt.show()"
   ]
  },
  {
   "cell_type": "code",
   "execution_count": null,
   "id": "ad4e4af1",
   "metadata": {},
   "outputs": [],
   "source": []
  }
 ],
 "metadata": {
  "kernelspec": {
   "display_name": "Python 3 (ipykernel)",
   "language": "python",
   "name": "python3"
  },
  "language_info": {
   "codemirror_mode": {
    "name": "ipython",
    "version": 3
   },
   "file_extension": ".py",
   "mimetype": "text/x-python",
   "name": "python",
   "nbconvert_exporter": "python",
   "pygments_lexer": "ipython3",
   "version": "3.9.12"
  }
 },
 "nbformat": 4,
 "nbformat_minor": 5
}
